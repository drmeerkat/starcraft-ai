{
 "cells": [
  {
   "cell_type": "markdown",
   "metadata": {},
   "source": [
    "https://developers.google.com/protocol-buffers/docs/pythontutorial"
   ]
  },
  {
   "cell_type": "code",
   "execution_count": 1,
   "metadata": {},
   "outputs": [],
   "source": [
    "import enum\n",
    "from s2clientprotocol import (\n",
    "    sc2api_pb2 as sc_pb,\n",
    "    raw_pb2 as raw_pb,\n",
    "    data_pb2 as data_pb,\n",
    "    common_pb2 as common_pb,\n",
    "    error_pb2 as error_pb\n",
    ")"
   ]
  },
  {
   "cell_type": "code",
   "execution_count": 2,
   "metadata": {},
   "outputs": [
    {
     "data": {
      "text/plain": [
       "[('MissingMap', 1),\n",
       " ('InvalidMapPath', 2),\n",
       " ('InvalidMapData', 3),\n",
       " ('InvalidMapName', 4),\n",
       " ('InvalidMapHandle', 5),\n",
       " ('MissingPlayerSetup', 6),\n",
       " ('InvalidPlayerSetup', 7),\n",
       " ('MultiplayerUnsupported', 8)]"
      ]
     },
     "execution_count": 2,
     "metadata": {},
     "output_type": "execute_result"
    }
   ],
   "source": [
    "sc_pb.ResponseCreateGame.Error.items()"
   ]
  },
  {
   "cell_type": "code",
   "execution_count": 4,
   "metadata": {},
   "outputs": [
    {
     "data": {
      "text/plain": [
       "[('Participant', 1), ('Computer', 2), ('Observer', 3)]"
      ]
     },
     "execution_count": 4,
     "metadata": {},
     "output_type": "execute_result"
    }
   ],
   "source": [
    "sc_pb.PlayerType.items()"
   ]
  },
  {
   "cell_type": "code",
   "execution_count": 5,
   "metadata": {},
   "outputs": [
    {
     "data": {
      "text/plain": [
       "[('VeryEasy', 1),\n",
       " ('Easy', 2),\n",
       " ('Medium', 3),\n",
       " ('MediumHard', 4),\n",
       " ('Hard', 5),\n",
       " ('Harder', 6),\n",
       " ('VeryHard', 7),\n",
       " ('CheatVision', 8),\n",
       " ('CheatMoney', 9),\n",
       " ('CheatInsane', 10)]"
      ]
     },
     "execution_count": 5,
     "metadata": {},
     "output_type": "execute_result"
    }
   ],
   "source": [
    "sc_pb.Difficulty.items()"
   ]
  },
  {
   "cell_type": "code",
   "execution_count": 6,
   "metadata": {},
   "outputs": [
    {
     "data": {
      "text/plain": [
       "[('launched', 1),\n",
       " ('init_game', 2),\n",
       " ('in_game', 3),\n",
       " ('in_replay', 4),\n",
       " ('ended', 5),\n",
       " ('quit', 6),\n",
       " ('unknown', 99)]"
      ]
     },
     "execution_count": 6,
     "metadata": {},
     "output_type": "execute_result"
    }
   ],
   "source": [
    "sc_pb.Status.items()"
   ]
  },
  {
   "cell_type": "code",
   "execution_count": 7,
   "metadata": {},
   "outputs": [
    {
     "data": {
      "text/plain": [
       "[('Victory', 1), ('Defeat', 2), ('Tie', 3), ('Undecided', 4)]"
      ]
     },
     "execution_count": 7,
     "metadata": {},
     "output_type": "execute_result"
    }
   ],
   "source": [
    "sc_pb.Result.items()"
   ]
  },
  {
   "cell_type": "code",
   "execution_count": 8,
   "metadata": {},
   "outputs": [
    {
     "data": {
      "text/plain": [
       "[('NuclearLaunchDetected', 1), ('NydusWormDetected', 2)]"
      ]
     },
     "execution_count": 8,
     "metadata": {},
     "output_type": "execute_result"
    }
   ],
   "source": [
    "sc_pb.Alert.items()"
   ]
  },
  {
   "cell_type": "code",
   "execution_count": 9,
   "metadata": {},
   "outputs": [
    {
     "data": {
      "text/plain": [
       "[('Broadcast', 1), ('Team', 2)]"
      ]
     },
     "execution_count": 9,
     "metadata": {},
     "output_type": "execute_result"
    }
   ],
   "source": [
    "sc_pb.ActionChat.Channel.items()"
   ]
  },
  {
   "cell_type": "code",
   "execution_count": 10,
   "metadata": {},
   "outputs": [
    {
     "data": {
      "text/plain": [
       "[('NoRace', 0), ('Terran', 1), ('Zerg', 2), ('Protoss', 3), ('Random', 4)]"
      ]
     },
     "execution_count": 10,
     "metadata": {},
     "output_type": "execute_result"
    }
   ],
   "source": [
    "common_pb.Race.items()"
   ]
  },
  {
   "cell_type": "code",
   "execution_count": 11,
   "metadata": {},
   "outputs": [
    {
     "data": {
      "text/plain": [
       "[('Visible', 1), ('Snapshot', 2), ('Hidden', 3)]"
      ]
     },
     "execution_count": 11,
     "metadata": {},
     "output_type": "execute_result"
    }
   ],
   "source": [
    "raw_pb.DisplayType.items()"
   ]
  },
  {
   "cell_type": "code",
   "execution_count": 12,
   "metadata": {},
   "outputs": [
    {
     "data": {
      "text/plain": [
       "[('Self', 1), ('Ally', 2), ('Neutral', 3), ('Enemy', 4)]"
      ]
     },
     "execution_count": 12,
     "metadata": {},
     "output_type": "execute_result"
    }
   ],
   "source": [
    "raw_pb.Alliance.items()"
   ]
  },
  {
   "cell_type": "code",
   "execution_count": 13,
   "metadata": {},
   "outputs": [
    {
     "data": {
      "text/plain": [
       "[('Cloaked', 1), ('CloakedDetected', 2), ('NotCloaked', 3)]"
      ]
     },
     "execution_count": 13,
     "metadata": {},
     "output_type": "execute_result"
    }
   ],
   "source": [
    "raw_pb.CloakState.items()"
   ]
  },
  {
   "cell_type": "code",
   "execution_count": 14,
   "metadata": {},
   "outputs": [
    {
     "data": {
      "text/plain": [
       "[('Light', 1),\n",
       " ('Armored', 2),\n",
       " ('Biological', 3),\n",
       " ('Mechanical', 4),\n",
       " ('Robotic', 5),\n",
       " ('Psionic', 6),\n",
       " ('Massive', 7),\n",
       " ('Structure', 8),\n",
       " ('Hover', 9),\n",
       " ('Heroic', 10),\n",
       " ('Summoned', 11)]"
      ]
     },
     "execution_count": 14,
     "metadata": {},
     "output_type": "execute_result"
    }
   ],
   "source": [
    "data_pb.Attribute.items()"
   ]
  },
  {
   "cell_type": "code",
   "execution_count": 15,
   "metadata": {},
   "outputs": [
    {
     "data": {
      "text/plain": [
       "[('Ground', 1), ('Air', 2), ('Any', 3)]"
      ]
     },
     "execution_count": 15,
     "metadata": {},
     "output_type": "execute_result"
    }
   ],
   "source": [
    "data_pb.Weapon.TargetType.items()"
   ]
  },
  {
   "cell_type": "code",
   "execution_count": 16,
   "metadata": {},
   "outputs": [
    {
     "data": {
      "text/plain": [
       "[('None', 1),\n",
       " ('Point', 2),\n",
       " ('Unit', 3),\n",
       " ('PointOrUnit', 4),\n",
       " ('PointOrNone', 5)]"
      ]
     },
     "execution_count": 16,
     "metadata": {},
     "output_type": "execute_result"
    }
   ],
   "source": [
    "data_pb.AbilityData.Target.items()"
   ]
  },
  {
   "cell_type": "code",
   "execution_count": 17,
   "metadata": {},
   "outputs": [
    {
     "data": {
      "text/plain": [
       "[('Success', 1),\n",
       " ('NotSupported', 2),\n",
       " ('Error', 3),\n",
       " ('CantQueueThatOrder', 4),\n",
       " ('Retry', 5),\n",
       " ('Cooldown', 6),\n",
       " ('QueueIsFull', 7),\n",
       " ('RallyQueueIsFull', 8),\n",
       " ('NotEnoughMinerals', 9),\n",
       " ('NotEnoughVespene', 10),\n",
       " ('NotEnoughTerrazine', 11),\n",
       " ('NotEnoughCustom', 12),\n",
       " ('NotEnoughFood', 13),\n",
       " ('FoodUsageImpossible', 14),\n",
       " ('NotEnoughLife', 15),\n",
       " ('NotEnoughShields', 16),\n",
       " ('NotEnoughEnergy', 17),\n",
       " ('LifeSuppressed', 18),\n",
       " ('ShieldsSuppressed', 19),\n",
       " ('EnergySuppressed', 20),\n",
       " ('NotEnoughCharges', 21),\n",
       " ('CantAddMoreCharges', 22),\n",
       " ('TooMuchMinerals', 23),\n",
       " ('TooMuchVespene', 24),\n",
       " ('TooMuchTerrazine', 25),\n",
       " ('TooMuchCustom', 26),\n",
       " ('TooMuchFood', 27),\n",
       " ('TooMuchLife', 28),\n",
       " ('TooMuchShields', 29),\n",
       " ('TooMuchEnergy', 30),\n",
       " ('MustTargetUnitWithLife', 31),\n",
       " ('MustTargetUnitWithShields', 32),\n",
       " ('MustTargetUnitWithEnergy', 33),\n",
       " ('CantTrade', 34),\n",
       " ('CantSpend', 35),\n",
       " ('CantTargetThatUnit', 36),\n",
       " ('CouldntAllocateUnit', 37),\n",
       " ('UnitCantMove', 38),\n",
       " ('TransportIsHoldingPosition', 39),\n",
       " ('BuildTechRequirementsNotMet', 40),\n",
       " ('CantFindPlacementLocation', 41),\n",
       " ('CantBuildOnThat', 42),\n",
       " ('CantBuildTooCloseToDropOff', 43),\n",
       " ('CantBuildLocationInvalid', 44),\n",
       " ('CantSeeBuildLocation', 45),\n",
       " ('CantBuildTooCloseToCreepSource', 46),\n",
       " ('CantBuildTooCloseToResources', 47),\n",
       " ('CantBuildTooFarFromWater', 48),\n",
       " ('CantBuildTooFarFromCreepSource', 49),\n",
       " ('CantBuildTooFarFromBuildPowerSource', 50),\n",
       " ('CantBuildOnDenseTerrain', 51),\n",
       " ('CantTrainTooFarFromTrainPowerSource', 52),\n",
       " ('CantLandLocationInvalid', 53),\n",
       " ('CantSeeLandLocation', 54),\n",
       " ('CantLandTooCloseToCreepSource', 55),\n",
       " ('CantLandTooCloseToResources', 56),\n",
       " ('CantLandTooFarFromWater', 57),\n",
       " ('CantLandTooFarFromCreepSource', 58),\n",
       " ('CantLandTooFarFromBuildPowerSource', 59),\n",
       " ('CantLandTooFarFromTrainPowerSource', 60),\n",
       " ('CantLandOnDenseTerrain', 61),\n",
       " ('AddOnTooFarFromBuilding', 62),\n",
       " ('MustBuildRefineryFirst', 63),\n",
       " ('BuildingIsUnderConstruction', 64),\n",
       " ('CantFindDropOff', 65),\n",
       " ('CantLoadOtherPlayersUnits', 66),\n",
       " ('NotEnoughRoomToLoadUnit', 67),\n",
       " ('CantUnloadUnitsThere', 68),\n",
       " ('CantWarpInUnitsThere', 69),\n",
       " ('CantLoadImmobileUnits', 70),\n",
       " ('CantRechargeImmobileUnits', 71),\n",
       " ('CantRechargeUnderConstructionUnits', 72),\n",
       " ('CantLoadThatUnit', 73),\n",
       " ('NoCargoToUnload', 74),\n",
       " ('LoadAllNoTargetsFound', 75),\n",
       " ('NotWhileOccupied', 76),\n",
       " ('CantAttackWithoutAmmo', 77),\n",
       " ('CantHoldAnyMoreAmmo', 78),\n",
       " ('TechRequirementsNotMet', 79),\n",
       " ('MustLockdownUnitFirst', 80),\n",
       " ('MustTargetUnit', 81),\n",
       " ('MustTargetInventory', 82),\n",
       " ('MustTargetVisibleUnit', 83),\n",
       " ('MustTargetVisibleLocation', 84),\n",
       " ('MustTargetWalkableLocation', 85),\n",
       " ('MustTargetPawnableUnit', 86),\n",
       " ('YouCantControlThatUnit', 87),\n",
       " ('YouCantIssueCommandsToThatUnit', 88),\n",
       " ('MustTargetResources', 89),\n",
       " ('RequiresHealTarget', 90),\n",
       " ('RequiresRepairTarget', 91),\n",
       " ('NoItemsToDrop', 92),\n",
       " ('CantHoldAnyMoreItems', 93),\n",
       " ('CantHoldThat', 94),\n",
       " ('TargetHasNoInventory', 95),\n",
       " ('CantDropThisItem', 96),\n",
       " ('CantMoveThisItem', 97),\n",
       " ('CantPawnThisUnit', 98),\n",
       " ('MustTargetCaster', 99),\n",
       " ('CantTargetCaster', 100),\n",
       " ('MustTargetOuter', 101),\n",
       " ('CantTargetOuter', 102),\n",
       " ('MustTargetYourOwnUnits', 103),\n",
       " ('CantTargetYourOwnUnits', 104),\n",
       " ('MustTargetFriendlyUnits', 105),\n",
       " ('CantTargetFriendlyUnits', 106),\n",
       " ('MustTargetNeutralUnits', 107),\n",
       " ('CantTargetNeutralUnits', 108),\n",
       " ('MustTargetEnemyUnits', 109),\n",
       " ('CantTargetEnemyUnits', 110),\n",
       " ('MustTargetAirUnits', 111),\n",
       " ('CantTargetAirUnits', 112),\n",
       " ('MustTargetGroundUnits', 113),\n",
       " ('CantTargetGroundUnits', 114),\n",
       " ('MustTargetStructures', 115),\n",
       " ('CantTargetStructures', 116),\n",
       " ('MustTargetLightUnits', 117),\n",
       " ('CantTargetLightUnits', 118),\n",
       " ('MustTargetArmoredUnits', 119),\n",
       " ('CantTargetArmoredUnits', 120),\n",
       " ('MustTargetBiologicalUnits', 121),\n",
       " ('CantTargetBiologicalUnits', 122),\n",
       " ('MustTargetHeroicUnits', 123),\n",
       " ('CantTargetHeroicUnits', 124),\n",
       " ('MustTargetRoboticUnits', 125),\n",
       " ('CantTargetRoboticUnits', 126),\n",
       " ('MustTargetMechanicalUnits', 127),\n",
       " ('CantTargetMechanicalUnits', 128),\n",
       " ('MustTargetPsionicUnits', 129),\n",
       " ('CantTargetPsionicUnits', 130),\n",
       " ('MustTargetMassiveUnits', 131),\n",
       " ('CantTargetMassiveUnits', 132),\n",
       " ('MustTargetMissile', 133),\n",
       " ('CantTargetMissile', 134),\n",
       " ('MustTargetWorkerUnits', 135),\n",
       " ('CantTargetWorkerUnits', 136),\n",
       " ('MustTargetEnergyCapableUnits', 137),\n",
       " ('CantTargetEnergyCapableUnits', 138),\n",
       " ('MustTargetShieldCapableUnits', 139),\n",
       " ('CantTargetShieldCapableUnits', 140),\n",
       " ('MustTargetFlyers', 141),\n",
       " ('CantTargetFlyers', 142),\n",
       " ('MustTargetBuriedUnits', 143),\n",
       " ('CantTargetBuriedUnits', 144),\n",
       " ('MustTargetCloakedUnits', 145),\n",
       " ('CantTargetCloakedUnits', 146),\n",
       " ('MustTargetUnitsInAStasisField', 147),\n",
       " ('CantTargetUnitsInAStasisField', 148),\n",
       " ('MustTargetUnderConstructionUnits', 149),\n",
       " ('CantTargetUnderConstructionUnits', 150),\n",
       " ('MustTargetDeadUnits', 151),\n",
       " ('CantTargetDeadUnits', 152),\n",
       " ('MustTargetRevivableUnits', 153),\n",
       " ('CantTargetRevivableUnits', 154),\n",
       " ('MustTargetHiddenUnits', 155),\n",
       " ('CantTargetHiddenUnits', 156),\n",
       " ('CantRechargeOtherPlayersUnits', 157),\n",
       " ('MustTargetHallucinations', 158),\n",
       " ('CantTargetHallucinations', 159),\n",
       " ('MustTargetInvulnerableUnits', 160),\n",
       " ('CantTargetInvulnerableUnits', 161),\n",
       " ('MustTargetDetectedUnits', 162),\n",
       " ('CantTargetDetectedUnits', 163),\n",
       " ('CantTargetUnitWithEnergy', 164),\n",
       " ('CantTargetUnitWithShields', 165),\n",
       " ('MustTargetUncommandableUnits', 166),\n",
       " ('CantTargetUncommandableUnits', 167),\n",
       " ('MustTargetPreventDefeatUnits', 168),\n",
       " ('CantTargetPreventDefeatUnits', 169),\n",
       " ('MustTargetPreventRevealUnits', 170),\n",
       " ('CantTargetPreventRevealUnits', 171),\n",
       " ('MustTargetPassiveUnits', 172),\n",
       " ('CantTargetPassiveUnits', 173),\n",
       " ('MustTargetStunnedUnits', 174),\n",
       " ('CantTargetStunnedUnits', 175),\n",
       " ('MustTargetSummonedUnits', 176),\n",
       " ('CantTargetSummonedUnits', 177),\n",
       " ('MustTargetUser1', 178),\n",
       " ('CantTargetUser1', 179),\n",
       " ('MustTargetUnstoppableUnits', 180),\n",
       " ('CantTargetUnstoppableUnits', 181),\n",
       " ('MustTargetResistantUnits', 182),\n",
       " ('CantTargetResistantUnits', 183),\n",
       " ('MustTargetDazedUnits', 184),\n",
       " ('CantTargetDazedUnits', 185),\n",
       " ('CantLockdown', 186),\n",
       " ('CantMindControl', 187),\n",
       " ('MustTargetDestructibles', 188),\n",
       " ('CantTargetDestructibles', 189),\n",
       " ('MustTargetItems', 190),\n",
       " ('CantTargetItems', 191),\n",
       " ('NoCalldownAvailable', 192),\n",
       " ('WaypointListFull', 193),\n",
       " ('MustTargetRace', 194),\n",
       " ('CantTargetRace', 195),\n",
       " ('MustTargetSimilarUnits', 196),\n",
       " ('CantTargetSimilarUnits', 197),\n",
       " ('CantFindEnoughTargets', 198),\n",
       " ('AlreadySpawningLarva', 199),\n",
       " ('CantTargetExhaustedResources', 200),\n",
       " ('CantUseMinimap', 201),\n",
       " ('CantUseInfoPanel', 202),\n",
       " ('OrderQueueIsFull', 203),\n",
       " ('CantHarvestThatResource', 204),\n",
       " ('HarvestersNotRequired', 205),\n",
       " ('AlreadyTargeted', 206),\n",
       " ('CantAttackWeaponsDisabled', 207),\n",
       " ('CouldntReachTarget', 208),\n",
       " ('TargetIsOutOfRange', 209),\n",
       " ('TargetIsTooClose', 210),\n",
       " ('TargetIsOutOfArc', 211),\n",
       " ('CantFindTeleportLocation', 212),\n",
       " ('InvalidItemClass', 213),\n",
       " ('CantFindCancelOrder', 214)]"
      ]
     },
     "execution_count": 17,
     "metadata": {},
     "output_type": "execute_result"
    }
   ],
   "source": [
    "error_pb.ActionResult.items()"
   ]
  },
  {
   "cell_type": "code",
   "execution_count": 27,
   "metadata": {},
   "outputs": [
    {
     "data": {
      "text/plain": [
       "['ByteSize',\n",
       " 'CREEP_FIELD_NUMBER',\n",
       " 'Clear',\n",
       " 'ClearExtension',\n",
       " 'ClearField',\n",
       " 'CopyFrom',\n",
       " 'DESCRIPTOR',\n",
       " 'DiscardUnknownFields',\n",
       " 'EFFECTS_FIELD_NUMBER',\n",
       " 'Extensions',\n",
       " 'FindInitializationErrors',\n",
       " 'FromString',\n",
       " 'HEIGHT_MAP_FIELD_NUMBER',\n",
       " 'HasExtension',\n",
       " 'HasField',\n",
       " 'IsInitialized',\n",
       " 'ListFields',\n",
       " 'MergeFrom',\n",
       " 'MergeFromString',\n",
       " 'PLAYER_ID_FIELD_NUMBER',\n",
       " 'PLAYER_RELATIVE_FIELD_NUMBER',\n",
       " 'POWER_FIELD_NUMBER',\n",
       " 'ParseFromString',\n",
       " 'RegisterExtension',\n",
       " 'SELECTED_FIELD_NUMBER',\n",
       " 'SerializePartialToString',\n",
       " 'SerializeToString',\n",
       " 'SetInParent',\n",
       " 'UNIT_DENSITY_AA_FIELD_NUMBER',\n",
       " 'UNIT_DENSITY_FIELD_NUMBER',\n",
       " 'UNIT_ENERGY_FIELD_NUMBER',\n",
       " 'UNIT_ENERGY_RATIO_FIELD_NUMBER',\n",
       " 'UNIT_HIT_POINTS_FIELD_NUMBER',\n",
       " 'UNIT_HIT_POINTS_RATIO_FIELD_NUMBER',\n",
       " 'UNIT_SHIELDS_FIELD_NUMBER',\n",
       " 'UNIT_SHIELDS_RATIO_FIELD_NUMBER',\n",
       " 'UNIT_TYPE_FIELD_NUMBER',\n",
       " 'VISIBILITY_MAP_FIELD_NUMBER',\n",
       " 'WhichOneof',\n",
       " '_CheckCalledFromGeneratedFile',\n",
       " '_SetListener',\n",
       " '__class__',\n",
       " '__deepcopy__',\n",
       " '__delattr__',\n",
       " '__dir__',\n",
       " '__doc__',\n",
       " '__eq__',\n",
       " '__format__',\n",
       " '__ge__',\n",
       " '__getattribute__',\n",
       " '__getstate__',\n",
       " '__gt__',\n",
       " '__hash__',\n",
       " '__init__',\n",
       " '__init_subclass__',\n",
       " '__le__',\n",
       " '__lt__',\n",
       " '__module__',\n",
       " '__ne__',\n",
       " '__new__',\n",
       " '__reduce__',\n",
       " '__reduce_ex__',\n",
       " '__repr__',\n",
       " '__setattr__',\n",
       " '__setstate__',\n",
       " '__sizeof__',\n",
       " '__slots__',\n",
       " '__str__',\n",
       " '__subclasshook__',\n",
       " '__unicode__',\n",
       " '_extensions_by_name',\n",
       " '_extensions_by_number']"
      ]
     },
     "execution_count": 27,
     "metadata": {},
     "output_type": "execute_result"
    }
   ],
   "source": [
    "from s2clientprotocol import spatial_pb2\n",
    "dir(spatial_pb2.FeatureLayers)"
   ]
  },
  {
   "cell_type": "code",
   "execution_count": null,
   "metadata": {},
   "outputs": [],
   "source": []
  }
 ],
 "metadata": {
  "kernelspec": {
   "display_name": "Python 3",
   "language": "python",
   "name": "python3"
  },
  "language_info": {
   "codemirror_mode": {
    "name": "ipython",
    "version": 3
   },
   "file_extension": ".py",
   "mimetype": "text/x-python",
   "name": "python",
   "nbconvert_exporter": "python",
   "pygments_lexer": "ipython3",
   "version": "3.6.5"
  }
 },
 "nbformat": 4,
 "nbformat_minor": 2
}
